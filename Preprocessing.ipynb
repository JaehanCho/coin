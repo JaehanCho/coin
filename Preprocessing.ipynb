{
 "cells": [
  {
   "cell_type": "code",
   "execution_count": 19,
   "id": "841f38eb",
   "metadata": {},
   "outputs": [],
   "source": [
    "import torch\n",
    "from torch.utils.data import Dataset\n",
    "from torch.utils.data.sampler import RandomSampler\n",
    "import numpy as np\n",
    "import pandas as pd\n",
    "import argparse"
   ]
  },
  {
   "cell_type": "code",
   "execution_count": 20,
   "id": "01e017f5",
   "metadata": {},
   "outputs": [],
   "source": [
    "DATASET_PATH = './data/dataset'"
   ]
  },
  {
   "cell_type": "code",
   "execution_count": 21,
   "id": "520b3012",
   "metadata": {},
   "outputs": [],
   "source": [
    "class CoinDataset(Dataset):\n",
    "    def __init__(self, train, conf=None):\n",
    "        self.conf = conf\n",
    "        self.train = train\n",
    "        \n",
    "        # DATA READ\n",
    "        DATA_PATH = DATASET_PATH + \"/{}USDT_{}.csv\".format(conf.pair, conf.intv)\n",
    "        self.data = pd.read_csv(DATA_PATH)\n",
    "        \n",
    "        # Data Type\n",
    "        if self.train:\n",
    "            self.data = self.data[:int(len(self.data)*conf.ratio)]\n",
    "        else:\n",
    "            self.data = self.data[int(len(self.data)*conf.ratio):]\n",
    "            \n",
    "        # Normalization\n",
    "        ohlcv = self.data.iloc[:,4:]\n",
    "        ohlcv_norm = (2*(ohlcv-ohlcv.min())/(ohlcv.max()-ohlcv.min())-1)\n",
    "        self.data_norm = pd.concat([self.data.iloc[:,:4], ohlcv_norm], axis = 1)\n",
    "\n",
    "    def __len__(self):\n",
    "        return len(self.data_norm)-self.conf.nhist-self.conf.ntarget+1\n",
    "\n",
    "    def __getitem__(self, index):\n",
    "        x_norm = self.data_norm.iloc[index:index+self.conf.nhist, 4:]   \n",
    "        y_norm = self.data_norm.iloc[index+self.conf.nhist+self.conf.ntarget, 4:]\n",
    "        x_orig = self.data.iloc[index:index+self.conf.nhist, 4:]\n",
    "        y_orig = self.data.iloc[index+self.conf.nhist+self.conf.ntarget, 4:]\n",
    "        isLong = x_orig.iloc[-1]['Close'] < y_orig['Close']\n",
    "#         print(x_norm.shape, y_norm.shape, isLong, x_orig.shape, y_orig.shape)\n",
    "#         print(x_norm.shape, y_norm.type, isLong, x_orig.shape, y_orig.shape)\n",
    "        return \\\n",
    "            torch.FloatTensor(x_norm.values), \\\n",
    "            torch.FloatTensor(list(y_norm.values)), \\\n",
    "            isLong, \\\n",
    "            torch.FloatTensor(x_orig.values), \\\n",
    "            torch.FloatTensor(list(y_orig.values))"
   ]
  },
  {
   "cell_type": "code",
   "execution_count": 22,
   "id": "d9efa079",
   "metadata": {},
   "outputs": [],
   "source": [
    "def get_dataset(conf):\n",
    "    train_dataset = CoinDataset(True, conf)\n",
    "    valid_dataset = CoinDataset(False, conf)\n",
    "\n",
    "    train_sampler = RandomSampler(train_dataset)\n",
    "    valid_sampler = RandomSampler(valid_dataset)\n",
    "\n",
    "    train_loader = torch.utils.data.DataLoader(dataset=train_dataset, sampler=train_sampler,\n",
    "                                               shuffle=False)  \n",
    "    valid_loader = torch.utils.data.DataLoader(dataset=valid_dataset, sampler=valid_sampler,\n",
    "                                               shuffle=False)  \n",
    "\n",
    "    return train_loader, valid_loader"
   ]
  },
  {
   "cell_type": "code",
   "execution_count": 23,
   "id": "b4018793",
   "metadata": {},
   "outputs": [],
   "source": [
    "def add_global_args():\n",
    "    args = argparse.ArgumentParser()\n",
    "    args.add_argument(\"--pair\", default=\"BTC\", type=str)\n",
    "    args.add_argument(\"--intv\", default=\"1h\", type=str)\n",
    "    args.add_argument(\"--nhist\", default=20, type=int)\n",
    "    args.add_argument(\"--ntarget\", default=4, type=int)\n",
    "    args.add_argument(\"--ratio\", default=0.8, type=float)\n",
    "    \n",
    "    # For local run\n",
    "    args.add_argument('-f', type=str, default=\"\")\n",
    "    \n",
    "    conf = args.parse_args()\n",
    "    return conf"
   ]
  },
  {
   "cell_type": "code",
   "execution_count": 24,
   "id": "b151aed5",
   "metadata": {},
   "outputs": [],
   "source": [
    "def execute(**kwargs):\n",
    "    conf = add_global_args()\n",
    "    train_loader, valid_loader = get_dataset(conf)\n",
    "#     for data in train_loader:\n",
    "#         print(data)"
   ]
  },
  {
   "cell_type": "code",
   "execution_count": 25,
   "id": "fb271404",
   "metadata": {},
   "outputs": [],
   "source": [
    "execute()"
   ]
  },
  {
   "cell_type": "code",
   "execution_count": null,
   "id": "2f02ffde",
   "metadata": {},
   "outputs": [],
   "source": []
  },
  {
   "cell_type": "code",
   "execution_count": null,
   "id": "223a0726",
   "metadata": {},
   "outputs": [],
   "source": []
  }
 ],
 "metadata": {
  "kernelspec": {
   "display_name": "Python 3 (ipykernel)",
   "language": "python",
   "name": "python3"
  },
  "language_info": {
   "codemirror_mode": {
    "name": "ipython",
    "version": 3
   },
   "file_extension": ".py",
   "mimetype": "text/x-python",
   "name": "python",
   "nbconvert_exporter": "python",
   "pygments_lexer": "ipython3",
   "version": "3.7.3"
  }
 },
 "nbformat": 4,
 "nbformat_minor": 5
}
